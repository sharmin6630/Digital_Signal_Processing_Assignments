{
  "nbformat": 4,
  "nbformat_minor": 0,
  "metadata": {
    "colab": {
      "name": "DSP basics 2016331091.ipynb",
      "provenance": [],
      "collapsed_sections": []
    },
    "kernelspec": {
      "name": "python3",
      "display_name": "Python 3"
    },
    "language_info": {
      "name": "python"
    }
  },
  "cells": [
    {
      "cell_type": "markdown",
      "metadata": {
        "id": "3ly8Xcq8EmeI"
      },
      "source": [
        "## **DSP Assignment**"
      ]
    },
    {
      "cell_type": "markdown",
      "metadata": {
        "id": "9YVVqVVMj5K9"
      },
      "source": [
        "###**1. Generate and\tplot the elementary signals\tin DSP (Impulse, unit impulse, ramp,and exponential\tsignals).**"
      ]
    },
    {
      "cell_type": "code",
      "metadata": {
        "id": "WrRB57Q2lmd1"
      },
      "source": [
        "import numpy as np \n",
        "import matplotlib.pyplot as plt\n",
        "import seaborn as sns\n",
        "\n",
        "def unit_step(n):\n",
        "    unit =[]\n",
        "    for x in n:\n",
        "        if x < 0:\n",
        "            unit.append(0)\n",
        "        else:\n",
        "            unit.append(1)\n",
        "    return(unit)\n",
        "\n",
        "def unit_impulse(n):\n",
        "    impulse =[]\n",
        "    for x in n:\n",
        "        if x == 0:\n",
        "            impulse.append(1)\n",
        "        else:\n",
        "            impulse.append(0)\n",
        "    return impulse\n",
        "\n",
        "def unit_ramp(n):\n",
        "    ramp = []\n",
        "    for x in n:\n",
        "        if x < 0:\n",
        "            ramp.append(0)\n",
        "        else:\n",
        "            ramp.append(x)\n",
        "    return ramp\n",
        "    \n",
        "def exponential_signal(a, n):\n",
        "    exponent =[]\n",
        "    for x in n:\n",
        "        exponent.append(a**x)\n",
        "    return exponent\n",
        "\n",
        "def plot_signal(name, a, n):\n",
        "    y = []\n",
        "    if name == 'unit_step':\n",
        "        y = unit_step(n)\n",
        "    elif name == 'unit_impulse':\n",
        "        y = unit_impulse(n)\n",
        "    elif name == 'unit_ramp':\n",
        "        y = unit_impulse(n)\n",
        "    elif name == 'exponential':\n",
        "        y = exponential_signal(a, n)\n",
        "    plt.stem(n, y, use_line_collection=True)\n",
        "    plt.xlabel('    n     ')\n",
        "    plt.ylabel('    Amplitude    ')\n",
        "    plt.title(name + '_signal')\n",
        "    plt.show()"
      ],
      "execution_count": null,
      "outputs": []
    },
    {
      "cell_type": "code",
      "metadata": {
        "colab": {
          "base_uri": "https://localhost:8080/",
          "height": 444
        },
        "id": "TsvwS7Wk8-1W",
        "outputId": "a963d3f9-4418-4d8a-e3c4-22b05cfd341a"
      },
      "source": [
        "n = range(-4, 6, 1)\n",
        "a = 0.7\n",
        "\n",
        "unit = unit_step(n)\n",
        "delta = unit_impulse(n)\n",
        "ramp = unit_ramp(n)\n",
        "exp = exponential_signal(a, n)\n",
        "\n",
        "fig, ax = plt.subplots(nrows=2, ncols=2, figsize=(15, 7))\n",
        "\n",
        "ax[0, 0].stem(n, delta, use_line_collection=True)\n",
        "ax[0, 0].set_title('Unit Impulse Signal')\n",
        "\n",
        "ax[0, 1].stem(n, unit, use_line_collection=True)\n",
        "ax[0, 1].set_title('Unit Step Signal')\n",
        "\n",
        "ax[1,0].stem(n, ramp, use_line_collection=True)\n",
        "ax[1,0].set_title('Unit Ramp Signal')\n",
        "\n",
        "ax[1,1].stem(n, exp, use_line_collection=True)\n",
        "ax[1,1].set_title('Exponential Signal')\n",
        "\n",
        "plt.show()\n",
        "\n"
      ],
      "execution_count": null,
      "outputs": [
        {
          "output_type": "display_data",
          "data": {
            "image/png": "[encoded data removed]",
            "text/plain": [
              "<Figure size 1080x504 with 4 Axes>"
            ]
          },
          "metadata": {
            "tags": [],
            "needs_background": "light"
          }
        }
      ]
    },
    {
      "cell_type": "markdown",
      "metadata": {
        "id": "9uUGCW4eG3gt"
      },
      "source": [
        "###**2. Compute\tthe\tlinear\tconvolution\tof\ttwo\tsignals (Eqn. 2.3.17).**"
      ]
    },
    {
      "cell_type": "code",
      "metadata": {
        "colab": {
          "base_uri": "https://localhost:8080/"
        },
        "id": "5fDvsnzVHqjT",
        "outputId": "9a9eedc0-d94d-452a-f340-b01f439f9e52"
      },
      "source": [
        "from scipy.signal import convolve as conv\n",
        "\n",
        "def convolution(x, h):\n",
        "    x_len = len(x)\n",
        "    h_len = len(h)\n",
        "    y_len = x_len + h_len - 1\n",
        "    y = np.zeros(y_len)\n",
        "    for m in range(x_len):\n",
        "        for n in range(h_len):\n",
        "            y[m+n] = y[m+n] + x[m]*h[n]\n",
        "    return y\n",
        "\n",
        "signal_x = [1, 2, 1, -1, 3]\n",
        "signal_h = [1, 2, 3, 1]\n",
        "print('convolution with my function: ', convolution(signal_x, signal_h)) # using my function\n",
        "print('convolution with built-in function: ', conv(signal_x, signal_h)) # using built-in function (for checking)\n"
      ],
      "execution_count": null,
      "outputs": [
        {
          "output_type": "stream",
          "text": [
            "convolution with my function:  [1. 4. 8. 8. 6. 4. 8. 3.]\n",
            "convolution with built-in function:  [1 4 8 8 6 4 8 3]\n"
          ],
          "name": "stdout"
        }
      ]
    },
    {
      "cell_type": "markdown",
      "metadata": {
        "id": "k3OeaWtLWHGp"
      },
      "source": [
        "###**3. Compute\tthe\tcross-correlation\tsequence of\ttwo signals x(n)\tand\th(n). [Hint:\t2.6.1]**"
      ]
    },
    {
      "cell_type": "code",
      "metadata": {
        "colab": {
          "base_uri": "https://localhost:8080/"
        },
        "id": "UhHR_4FoXgwm",
        "outputId": "32aa4b97-2a69-48f5-9c66-c4f194212171"
      },
      "source": [
        "import numpy as np\n",
        "\n",
        "def convolution(x, h):\n",
        "    x_len = len(x)\n",
        "    h_len = len(h)\n",
        "    y_len = x_len + h_len - 1\n",
        "    y = np.zeros(y_len)\n",
        "    for m in range(x_len):\n",
        "        for n in range(h_len):\n",
        "            y[m+n] = y[m+n] + x[m]*h[n]\n",
        "    return y\n",
        "\n",
        "def cross_correlation(x, h):\n",
        "    h_fold = h[::-1]\n",
        "    return convolution(np.conj(x), h_fold)\n",
        "\n",
        "signal_x = [1, 2, 1, -1, 3]\n",
        "signal_h = [1, 2, 3, 1]\n",
        "\n",
        "print('cross correlation with my function: ', cross_correlation(signal_x, signal_h))\n",
        "print('cross correlation with built-in function: ', np.correlate(signal_x, signal_h,'full')) # using built-in function (for checking)\n"
      ],
      "execution_count": null,
      "outputs": [
        {
          "output_type": "stream",
          "text": [
            "cross correlation with my function:  [1. 5. 9. 7. 4. 8. 5. 3.]\n",
            "cross correlation with built-in function:  [1 5 9 7 4 8 5 3]\n"
          ],
          "name": "stdout"
        }
      ]
    },
    {
      "cell_type": "markdown",
      "metadata": {
        "id": "fruRuqdiYw0S"
      },
      "source": [
        "###**4. Determine\tthe\tautocorrelation\tsequence\tof\tthe\tsignal x(n). [Hint:\t2.6.1]**"
      ]
    },
    {
      "cell_type": "code",
      "metadata": {
        "colab": {
          "base_uri": "https://localhost:8080/"
        },
        "id": "BSpEjphhY1kv",
        "outputId": "7cf771fc-64bf-4547-9c6a-ad02cae4067c"
      },
      "source": [
        "import numpy as np\n",
        "\n",
        "def convolution(x, h):\n",
        "    x_len = len(x)\n",
        "    h_len = len(h)\n",
        "    y_len = x_len + h_len - 1\n",
        "    y = np.zeros(y_len)\n",
        "    for m in range(x_len):\n",
        "        for n in range(h_len):\n",
        "            y[m+n] = y[m+n] + x[m]*h[n]\n",
        "    return y\n",
        "\n",
        "def auto_correlation(x):\n",
        "    x_fold = x[::-1]\n",
        "    return convolution(np.conj(x), x_fold)\n",
        "\n",
        "signal_x = [1, 2, 3, -7, 9]\n",
        "\n",
        "print('auto correlation with my function: ', auto_correlation(signal_x))\n",
        "print('auto correlation with built-in function: ', np.correlate(signal_x, signal_x,'full')) # using built-in function (for checking)\n"
      ],
      "execution_count": null,
      "outputs": [
        {
          "output_type": "stream",
          "text": [
            "auto correlation with my function:  [  9.  11.  16. -76. 144. -76.  16.  11.   9.]\n",
            "auto correlation with built-in function:  [  9  11  16 -76 144 -76  16  11   9]\n"
          ],
          "name": "stdout"
        }
      ]
    },
    {
      "cell_type": "markdown",
      "metadata": {
        "id": "riX0k-u2ZylZ"
      },
      "source": [
        "###**5. Compute\tDiscrete\tFourier\tTransform\t(DFT)\tof\ta\tsignal using\tDFT\tequation.**"
      ]
    },
    {
      "cell_type": "code",
      "metadata": {
        "colab": {
          "base_uri": "https://localhost:8080/"
        },
        "id": "wxlTpKfOObh1",
        "outputId": "db6a0c8f-489f-4a1e-b90e-ae75077551f6"
      },
      "source": [
        "import numpy as np\n",
        "from numpy.fft import fft\n",
        "\n",
        "def DFT(x):\n",
        "    x_len = len(x)\n",
        "    X = np.zeros((x_len), dtype=np.complex128)\n",
        "    for m in range(x_len):    \n",
        "        for n in range(x_len): \n",
        "            X[m] += x[n] * np.exp(-np.pi * 2j * m * n / x_len)\n",
        "    return X\n",
        "\n",
        "x = [0, 1, 2, 3]\n",
        "\n",
        "\n",
        "print('DFT of the signal using my fuction:')\n",
        "print(DFT(x).round())\n",
        "\n",
        "print('DFT of the signal using built-in fuction:\\n', fft(x, len(x))) # using built-in function (for checking)"
      ],
      "execution_count": null,
      "outputs": [
        {
          "output_type": "stream",
          "text": [
            "DFT of the signal using my fuction:\n",
            "[ 6.+0.j -2.+2.j -2.-0.j -2.-2.j]\n",
            "DFT of the signal using built-in fuction:\n",
            " [ 6.+0.j -2.+2.j -2.+0.j -2.-2.j]\n"
          ],
          "name": "stdout"
        }
      ]
    },
    {
      "cell_type": "markdown",
      "metadata": {
        "id": "tevf3aAUavod"
      },
      "source": [
        "###**6. Compute inverse\tDFT\tof\tthe\tsignal\tobtained in\t(5).\tCross\tcheck\tyour\tresults\twith\tMatlab/\tPython library\tfunctions.**"
      ]
    },
    {
      "cell_type": "code",
      "metadata": {
        "colab": {
          "base_uri": "https://localhost:8080/"
        },
        "id": "MwH4Mr85a7ZS",
        "outputId": "7227987b-0589-47ca-87c5-6764eeab442a"
      },
      "source": [
        "import numpy as np\n",
        "from numpy.fft import fft, ifft\n",
        "\n",
        "def DFT(x):\n",
        "    x_len = len(x)\n",
        "    X = np.zeros((x_len), dtype=np.complex128)\n",
        "    for m in range(x_len):    \n",
        "        for n in range(x_len): \n",
        "            X[m] += x[n] * np.exp(-2j * np.pi * m * n / x_len)\n",
        "    return X\n",
        "\n",
        "def IDFT(x):\n",
        "    x_len = len(x)\n",
        "    X = np.zeros((x_len), dtype=np.complex128)\n",
        "    for m in range(x_len):\n",
        "        for n in range(x_len): \n",
        "            X[m] += x[n] * np.exp(2j * np.pi * m * n / x_len)\n",
        "    X = X/x_len\n",
        "    X = np.real(X)\n",
        "    X = np.round(X,decimals=0)\n",
        "    return X\n",
        "\n",
        "x = [0, 1, 2, 3, 8]\n",
        "\n",
        "dft_x = DFT(x)\n",
        "idft_x = IDFT(dft_x)\n",
        "print('DFT of the signal using my function: ')\n",
        "print(dft_x)\n",
        "print('IDFT of the signal using my function: ')\n",
        "print(idft_x)\n",
        "\n",
        "print('\\nDFT of the signal using python library: ',)\n",
        "python_dft_x = fft(x, len(x))\n",
        "print(python_dft_x)\n",
        "print('IDFT of the signal using python library: ')\n",
        "python_idft_x = ifft(python_dft_x)\n",
        "print(python_idft_x)"
      ],
      "execution_count": null,
      "outputs": [
        {
          "output_type": "stream",
          "text": [
            "DFT of the signal using my function: \n",
            "[14.        +0.j         -1.26393202+7.24518087j -5.73606798+3.16344025j\n",
            " -5.73606798-3.16344025j -1.26393202-7.24518087j]\n",
            "IDFT of the signal using my function: \n",
            "[0. 1. 2. 3. 8.]\n",
            "\n",
            "DFT of the signal using python library: \n",
            "[14.        +0.j         -1.26393202+7.24518087j -5.73606798+3.16344025j\n",
            " -5.73606798-3.16344025j -1.26393202-7.24518087j]\n",
            "IDFT of the signal using python library: \n",
            "[0.+0.j 1.+0.j 2.+0.j 3.+0.j 8.+0.j]\n"
          ],
          "name": "stdout"
        }
      ]
    },
    {
      "cell_type": "markdown",
      "metadata": {
        "id": "h3Dy_Qn3a7-N"
      },
      "source": [
        "###**7. By\tmeans\tof\tthe\tDFT\tand\tIDFT,\tdetermine\tthe\tresponse\tof\tthe\tFIR\tfilter\twith\timpulse\tresponse\th(n)\tto\tthe\tinput\tsequence\tx(n). [Hint:\tEx.\t7.3.1]**"
      ]
    },
    {
      "cell_type": "code",
      "metadata": {
        "id": "wVuTEkx9bBox",
        "colab": {
          "base_uri": "https://localhost:8080/"
        },
        "outputId": "e128f47c-34b8-45b0-8b76-86c4c53ad4a0"
      },
      "source": [
        "import numpy as np\n",
        "import scipy.signal as signal\n",
        "from numpy.fft import fft, ifft\n",
        "\n",
        "def DFT(x):\n",
        "    x_len = len(x)\n",
        "    X = np.zeros((x_len), dtype=np.complex128)\n",
        "    for m in range(x_len): \n",
        "        for n in range(x_len): \n",
        "            X[m] += x[n] * np.exp(-2j * np.pi * m * n / x_len)\n",
        "    return X\n",
        "\n",
        "def IDFT(x):\n",
        "    x_len = len(x)\n",
        "    X = np.zeros((x_len), dtype=np.complex128)\n",
        "    for m in range(x_len):\n",
        "        for n in range(x_len): \n",
        "            X[m] += x[n] * np.exp(2j * np.pi * m * n / x_len)\n",
        "    X = X/x_len\n",
        "    X = np.real(X)\n",
        "    X = np.round(X, decimals=0)\n",
        "    return X\n",
        "\n",
        "def FIR(x, h):\n",
        "    y_len = len(x) + len(h) - 1\n",
        "    y_len = int(2**(np.ceil(np.log2(y_len))))\n",
        "    h = np.pad(h, (0, y_len-len(h)),'constant')\n",
        "    x = np.pad(x, (0, y_len-len(x)),'constant')\n",
        "    product_dft = DFT(h) * DFT(x)\n",
        "    y = IDFT(product_dft)\n",
        "    return y\n",
        "\n",
        "\n",
        "h = [1, 2, 3]\n",
        "x = [1, 2, 2, 1]\n",
        "print('Response of the FIR filter: ', FIR(x, h))\n",
        "print('Response of the FIR filter using built-in function: ', np.real(ifft(fft(x, 8)*fft(h, 8)).round()))"
      ],
      "execution_count": null,
      "outputs": [
        {
          "output_type": "stream",
          "text": [
            "Response of the FIR filter:  [ 1.  4.  9. 11.  8.  3.  0.  0.]\n",
            "Response of the FIR filter using built-in function:  [ 1.  4.  9. 11.  8.  3.  0. -0.]\n"
          ],
          "name": "stdout"
        }
      ]
    },
    {
      "cell_type": "markdown",
      "metadata": {
        "id": "8LwJfWXZbD0M"
      },
      "source": [
        "###**8. Compute\tthe\tFast Fourier Transform (FFT) using divide and conquer\tapproach (e.g N=2 x\tN/2).**"
      ]
    },
    {
      "cell_type": "code",
      "metadata": {
        "colab": {
          "base_uri": "https://localhost:8080/"
        },
        "id": "61rs4Ls3JWnz",
        "outputId": "a10f7dc7-d9d0-49cc-82aa-9c1104caaf4e"
      },
      "source": [
        "import numpy as np\n",
        "import scipy.signal as signal\n",
        "from numpy.fft import fft, ifft\n",
        "\n",
        "def DFT(x):\n",
        "    x_len = len(x)\n",
        "    X = np.zeros((x_len), dtype=np.complex128)\n",
        "    for m in range(x_len): \n",
        "        for n in range(x_len): \n",
        "            X[m] += x[n] * np.exp(-2j * np.pi * m * n / x_len)\n",
        "    return X\n",
        "\n",
        "def factorize(n, x):\n",
        "    i = 2\n",
        "    while i * i < n :\n",
        "        if n % i == 0:\n",
        "            return i, int(n//i), x, len(x)\n",
        "        i += 1\n",
        "    # if prime, x is padded\n",
        "    x = np.pad(x, (0, 1),'constant')\n",
        "    return int(n//2)+1, 2, x, len(x)\n",
        "\n",
        "def twiddle_factor(ll, q, n):\n",
        "    w = np.exp((-2j * np.pi * ll * q) / n)\n",
        "    return w\n",
        "\n",
        "def DFT_2D(matrix):\n",
        "   DFT_rows = [DFT(row) for row in matrix]\n",
        "   return DFT_rows\n",
        "\n",
        "def FFT_divide_and_conquer_2(x):\n",
        "    n = len(x)\n",
        "\n",
        "    #for calculating l, m [n=l*m], n(x_len), padding x if needed\n",
        "    l, m, x, n = factorize(n, x)\n",
        "    check_x = x # for comparing with built-in function\n",
        "    \n",
        "    #column_wise store\n",
        "    x = np.transpose(x.reshape((l,m)))\n",
        "    \n",
        "    #m point DFT of each row\n",
        "    f_lq = DFT_2D(x)\n",
        "\n",
        "    #phase factor w_lq\n",
        "    l1 = np.arange(l)\n",
        "    q = np.arange(m).reshape((m, 1))\n",
        "    #print(l1.shape, q.shape)\n",
        "    w_lq = twiddle_factor(l1, q, n)\n",
        "\n",
        "    #multiply with phase factor w_lq\n",
        "    g_lq = f_lq * w_lq\n",
        "\n",
        "    #l point DFT of each column\n",
        "    x_pq = np.transpose(DFT_2D(np.transpose(g_lq))).ravel()\n",
        "\n",
        "    return x_pq, check_x\n",
        "\n",
        "\n",
        "x = np.arange(8)\n",
        "result, check_x = FFT_divide_and_conquer_2(x)\n",
        "\n",
        "print('FFT of a given signal using divide and conquer approach:\\n', result)\n",
        "print('\\nFFT of a given signal using built-in function:\\n', fft(check_x)) #for matching the result"
      ],
      "execution_count": null,
      "outputs": [
        {
          "output_type": "stream",
          "text": [
            "FFT of a given signal using divide and conquer approach:\n",
            " [28.+0.00000000e+00j -4.+9.65685425e+00j -4.+4.00000000e+00j\n",
            " -4.+1.65685425e+00j -4.-2.44929360e-15j -4.-1.65685425e+00j\n",
            " -4.-4.00000000e+00j -4.-9.65685425e+00j]\n",
            "\n",
            "FFT of a given signal using built-in function:\n",
            " [28.+0.j         -4.+9.65685425j -4.+4.j         -4.+1.65685425j\n",
            " -4.+0.j         -4.-1.65685425j -4.-4.j         -4.-9.65685425j]\n"
          ],
          "name": "stdout"
        }
      ]
    },
    {
      "cell_type": "markdown",
      "metadata": {
        "id": "YfMzMDV7bPqb"
      },
      "source": [
        "###**9. Compute\tthe\tFFT\tof\ta\tgiven\tsignal\twith\tN =\t8\tusing\tRadix-2\talgorithm**"
      ]
    },
    {
      "cell_type": "code",
      "metadata": {
        "colab": {
          "base_uri": "https://localhost:8080/"
        },
        "id": "oCyhlFyjScA5",
        "outputId": "7d3d5e20-425d-4456-98eb-7f84d03f989e"
      },
      "source": [
        "import numpy as np\n",
        "import scipy.signal as signal\n",
        "from numpy.fft import fft, ifft\n",
        "\n",
        "def input_padding(input):\n",
        "    current_size = len(input)\n",
        "    required_length = int(2**(np.ceil(np.log2(current_size))))\n",
        "    padding_length = required_length - current_size\n",
        "    input = np.pad(input, (0, padding_length),'constant')\n",
        "    return input\n",
        "\n",
        "def FFT_radix(x, n):\n",
        "    x = np.asarray(x, dtype=complex)\n",
        "    n = len(x)\n",
        "\n",
        "    if n <= 1:\n",
        "        return x\n",
        "    else:\n",
        "        x_even = FFT_radix(x[::2], n//2)  # even part\n",
        "        x_odd = FFT_radix(x[1::2], n//2)  # odd part\n",
        "        combined = n * [0]\n",
        "\n",
        "        for i in range(n//2):\n",
        "            twiddle = np.exp(-2j * np.pi * i / n)\n",
        "            combined[i] = x_even[i] + x_odd[i] * twiddle\n",
        "            combined[i+n//2] = x_even[i] - x_odd[i] * twiddle\n",
        "\n",
        "    return np.array(combined)\n",
        "\n",
        "x = np.arange(7)\n",
        "x_padded = input_padding(x)\n",
        "print('\\nFFT of a given signal with N = 8 using Radix-2 algorithm:\\n', FFT_radix(x_padded, len(x_padded))) \n",
        "print('\\nFFT of a given signal with N = 8 using built_in function:\\n', fft(x_padded, len(x_padded))) # check"
      ],
      "execution_count": 16,
      "outputs": [
        {
          "output_type": "stream",
          "text": [
            "\n",
            "FFT of a given signal with N = 8 using Radix-2 algorithm:\n",
            " [21.        +0.j         -8.94974747+4.70710678j -4.        -3.j\n",
            "  0.94974747-3.29289322j  3.        +0.j          0.94974747+3.29289322j\n",
            " -4.        +3.j         -8.94974747-4.70710678j]\n",
            "\n",
            "FFT of a given signal with N = 8 using built_in function:\n",
            " [21.        +0.j         -8.94974747+4.70710678j -4.        -3.j\n",
            "  0.94974747-3.29289322j  3.        +0.j          0.94974747+3.29289322j\n",
            " -4.        +3.j         -8.94974747-4.70710678j]\n"
          ],
          "name": "stdout"
        }
      ]
    }
  ]
}